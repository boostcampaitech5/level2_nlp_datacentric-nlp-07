{
 "cells": [
  {
   "cell_type": "code",
   "execution_count": null,
   "metadata": {},
   "outputs": [],
   "source": [
    "from newspaper import Article\n",
    "from tqdm import tqdm\n",
    "import pandas as pd\n",
    "from soynlp.normalizer import *\n",
    "import re"
   ]
  },
  {
   "cell_type": "code",
   "execution_count": null,
   "metadata": {},
   "outputs": [],
   "source": [
    "def preprocess(text):\n",
    "    # HTML 태그 제거\n",
    "    text = re.sub(r\"<[^>]+>\\s+(?=<)|<[^>]+>\", \"\", text).strip()\n",
    "\n",
    "    # 이메일 제거\n",
    "    text = re.sub(r\"[a-zA-Z0-9+-_.]+@[a-zA-Z0-9-]+\\.[a-zA-Z0-9-.]+\", \"\", text).strip()\n",
    "\n",
    "    # 해쉬태그 제거\n",
    "    text = re.sub(r\"#\\S+\", \"\", text).strip()\n",
    "\n",
    "    # 멘션 제거\n",
    "    text = re.sub(r\"@\\w+\", \"\", text).strip()\n",
    "\n",
    "    # URL 제거\n",
    "    text = re.sub(r\"(http|https)?:\\/\\/\\S+\\b|www\\.(\\w+\\.)+\\S*\", \"\", text).strip()\n",
    "    text = re.sub(r\"pic\\.(\\w+\\.)+\\S*\", \"\", text).strip()\n",
    "\n",
    "    # 특수 문자 제거\n",
    "    text = re.sub(r\"[^\\w\\s…]\", \"\", text)\n",
    "\n",
    "    # 문제를 일으킬 수 있는 문자 제거\n",
    "    bad_chars = {\"\\u200b\": \"\", \"…\": \" ... \", \"\\ufeff\": \"\"}\n",
    "    for bad_char in bad_chars:\n",
    "        text = text.replace(bad_char, bad_chars[bad_char])\n",
    "    text = re.sub(r\"[\\+á?\\xc3\\xa1]\", \"\", text)\n",
    "\n",
    "    # 언론 정보 제거\n",
    "    re_patterns = [\n",
    "        r\"\\([^(]*?(뉴스|경제|일보|미디어|데일리|한겨례|타임즈|위키트리)\\)\",\n",
    "        r\"[가-힣]{0,4} (기자|선임기자|수습기자|특파원|객원기자|논설고문|통신원|연구소장) \",  # 이름 + 기자\n",
    "        r\"[가-힣]{1,}(뉴스|경제|일보|미디어|데일리|한겨례|타임|위키트리)\",  # (... 연합뉴스) ..\n",
    "        r\"\\(\\s+\\)\",  # (  )\n",
    "        r\"\\(=\\s+\\)\",  # (=  )\n",
    "        r\"\\(\\s+=\\)\",  # (  =)\n",
    "    ]\n",
    "    for re_pattern in re_patterns:\n",
    "        text = re.sub(re_pattern, \"\", text).strip()\n",
    "\n",
    "    # 저작권 관련 텍스트 제거\n",
    "    re_patterns = [\n",
    "        r\"\\<저작권자(\\(c\\)|ⓒ|©|\\(Copyright\\)|(\\(c\\))|(\\(C\\))).+?\\>\",\n",
    "        r\"저작권자\\(c\\)|ⓒ|©|(Copyright)|(\\(c\\))|(\\(C\\))\"\n",
    "    ]\n",
    "\n",
    "    for re_pattern in re_patterns:\n",
    "        text = re.sub(re_pattern, \"\", text).strip()\n",
    "\n",
    "    # 사진 라벨 제거\n",
    "    text = re.sub(r\"\\(출처 ?= ?.+\\) |\\(사진 ?= ?.+\\) |\\(자료 ?= ?.+\\)| \\(자료사진\\) |사진=.+기자 \", \"\", text).strip()\n",
    "\n",
    "    # 쓸모없는 괄호 제거\n",
    "    bracket_pattern = re.compile(r\"\\((.*?)\\)\")\n",
    "    modi_text = \"\"\n",
    "    text = text.replace(\"()\", \"\")  # 수학() -> 수학\n",
    "    brackets = bracket_pattern.search(text)\n",
    "    if brackets:\n",
    "        replace_brackets = {}\n",
    "        # key: 원본 문장에서 고쳐야하는 index, value: 고쳐져야 하는 값\n",
    "        # e.g. {'2,8': '(數學)','34,37': ''}\n",
    "        while brackets:\n",
    "            index_key = str(brackets.start()) + \",\" + str(brackets.end())\n",
    "            bracket = text[brackets.start() + 1 : brackets.end() - 1]\n",
    "            infos = bracket.split(\",\")\n",
    "            modi_infos = []\n",
    "            for info in infos:\n",
    "                info = info.strip()\n",
    "                if len(info) > 0:\n",
    "                    modi_infos.append(info)\n",
    "            if len(modi_infos) > 0:\n",
    "                replace_brackets[index_key] = \"(\" + \", \".join(modi_infos) + \")\"\n",
    "            else:\n",
    "                replace_brackets[index_key] = \"\"\n",
    "            brackets = bracket_pattern.search(text, brackets.start() + 1)\n",
    "        end_index = 0\n",
    "        for index_key in replace_brackets.keys():\n",
    "            start_index = int(index_key.split(\",\")[0])\n",
    "            modi_text += text[end_index:start_index]\n",
    "            modi_text += replace_brackets[index_key]\n",
    "            end_index = int(index_key.split(\",\")[1])\n",
    "        modi_text += text[end_index:]\n",
    "        modi_text = modi_text.strip()\n",
    "        text = modi_text\n",
    "    \n",
    "\n",
    "    # 반복 문자 개수 고정\n",
    "    text = repeat_normalize(text, num_repeats=2).strip()\n",
    "\n",
    "    # 기호 치환\n",
    "    punct_mapping = {\"‘\": \"'\", \"₹\": \"e\", \"´\": \"'\", \"°\": \"\", \"€\": \"e\", \"™\": \"tm\", \"√\": \" sqrt \", \"×\": \"x\", \"²\": \"2\", \"—\": \"-\", \"–\": \"-\", \"’\": \"'\", \"_\": \"-\", \"`\": \"'\", '“': '\"', '”': '\"', '“': '\"', \"£\": \"e\", '∞': 'infinity', 'θ': 'theta', '÷': '/', 'α': 'alpha', '•': '.', 'à': 'a', '−': '-', 'β': 'beta', '∅': '', '³': '3', 'π': 'pi', }\n",
    "    for p in punct_mapping:\n",
    "        text = text.replace(p, punct_mapping[p])\n",
    "    text = text.strip()\n",
    "\n",
    "    # 연속 공백 제거\n",
    "    text = re.sub(r\"\\s+\", \" \", text).strip()\n",
    "\n",
    "    return text"
   ]
  },
  {
   "cell_type": "code",
   "execution_count": null,
   "metadata": {},
   "outputs": [],
   "source": [
    "train = pd.read_csv('./train.csv')"
   ]
  },
  {
   "cell_type": "code",
   "execution_count": null,
   "metadata": {},
   "outputs": [],
   "source": [
    "texts = []\n",
    "for news_url in tqdm(train['url']):\n",
    "    try:\n",
    "        article = Article(news_url, language='ko')\n",
    "        article.download()\n",
    "        article.parse()\n",
    "    except:\n",
    "        texts.append(\"except\")\n",
    "    texts.append(article.title)"
   ]
  },
  {
   "cell_type": "code",
   "execution_count": null,
   "metadata": {},
   "outputs": [],
   "source": [
    "except_idx = [idx for idx, val in enumerate(texts) if val==\"except\"]"
   ]
  },
  {
   "cell_type": "code",
   "execution_count": null,
   "metadata": {},
   "outputs": [],
   "source": [
    "train.iloc[except_idx]['text']"
   ]
  },
  {
   "cell_type": "code",
   "execution_count": null,
   "metadata": {},
   "outputs": [],
   "source": [
    "texts[14065] = \"한진해운 글로벌 해운동맹 합류…현대상선 일단 제외 종합2보\"\n",
    "texts[21419] = \"81세 부테플리카 알제리 대통령 대선 출마 선언\"\n",
    "texts[24213] = \"안테토쿤보 30점 ... 밀워키 보스턴 3연패 밀어 넣고 4연승\"\n",
    "texts[25874] = \"朴대통령 내주초 추가 메시지 내놓을듯 ... 국민단합 호소종합\"\n",
    "texts[30201] = \"삼성카드 핸드메이드 유통 플랫폼 백패커와 업무제휴\"\n",
    "texts[30553] = \"수소위원회 만찬 후 기념촬영하는 3사 CEO\""
   ]
  },
  {
   "cell_type": "code",
   "execution_count": null,
   "metadata": {},
   "outputs": [],
   "source": [
    "clean_texts = [preprocess(text) for text in texts]"
   ]
  },
  {
   "cell_type": "code",
   "execution_count": null,
   "metadata": {},
   "outputs": [],
   "source": [
    "clean_data=pd.DataFrame({'texts':clean_texts})\n",
    "clean_data.to_csv('./clean_data.csv', index=False) "
   ]
  }
 ],
 "metadata": {
  "kernelspec": {
   "display_name": "torch-env2",
   "language": "python",
   "name": "python3"
  },
  "language_info": {
   "name": "python",
   "version": "3.9.16"
  },
  "orig_nbformat": 4
 },
 "nbformat": 4,
 "nbformat_minor": 2
}
